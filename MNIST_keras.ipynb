{
 "cells": [
  {
   "cell_type": "code",
   "execution_count": 1,
   "metadata": {},
   "outputs": [
    {
     "name": "stderr",
     "output_type": "stream",
     "text": [
      "Using TensorFlow backend.\n"
     ]
    }
   ],
   "source": [
    "from keras.utils import np_utils \n",
    "from keras.datasets import mnist \n",
    "import seaborn as sns\n",
    "from keras.initializers import RandomNormal"
   ]
  },
  {
   "cell_type": "code",
   "execution_count": 2,
   "metadata": {},
   "outputs": [],
   "source": [
    "import matplotlib.pyplot as plt\n",
    "import numpy as np\n",
    "import time\n",
    "\n",
    "# this function is used to update the plots for each epoch and error\n",
    "def plt_dynamic(x, vy, ty, ax, colors=['b']):\n",
    "    ax.plot(x, vy, 'b', label=\"Validation Loss\")\n",
    "    ax.plot(x, ty, 'r', label=\"Train Loss\")\n",
    "    plt.legend()\n",
    "    plt.grid()\n",
    "    fig.canvas.draw()"
   ]
  },
  {
   "cell_type": "code",
   "execution_count": 5,
   "metadata": {},
   "outputs": [],
   "source": [
    "(X_train,y_train),(X_test,y_test)=mnist.load_data()"
   ]
  },
  {
   "cell_type": "code",
   "execution_count": 6,
   "metadata": {},
   "outputs": [
    {
     "name": "stdout",
     "output_type": "stream",
     "text": [
      "Number of training examples : 60000 and each image is of shape (28, 28)\n",
      "Number of training examples : 10000 and each image is of shape (28, 28)\n"
     ]
    }
   ],
   "source": [
    "print(\"Number of training examples :\", X_train.shape[0], \"and each image is of shape (%d, %d)\"%(X_train.shape[1], X_train.shape[2]))\n",
    "print(\"Number of training examples :\", X_test.shape[0], \"and each image is of shape (%d, %d)\"%(X_test.shape[1], X_test.shape[2]))"
   ]
  },
  {
   "cell_type": "code",
   "execution_count": 7,
   "metadata": {},
   "outputs": [],
   "source": [
    "X_train=X_train.reshape(X_train.shape[0],X_train.shape[1]*X_train.shape[2])\n",
    "X_test=X_test.reshape(X_test.shape[0],X_test.shape[1]*X_test.shape[2])\n"
   ]
  },
  {
   "cell_type": "code",
   "execution_count": 9,
   "metadata": {},
   "outputs": [
    {
     "name": "stdout",
     "output_type": "stream",
     "text": [
      "Number of training examples : 60000 and each image is of shape (784)\n",
      "Number of training examples : 10000 and each image is of shape (784)\n"
     ]
    }
   ],
   "source": [
    "print(\"Number of training examples :\", X_train.shape[0], \"and each image is of shape (%d)\"%(X_train.shape[1]))\n",
    "print(\"Number of training examples :\", X_test.shape[0], \"and each image is of shape (%d)\"%(X_test.shape[1]))"
   ]
  },
  {
   "cell_type": "code",
   "execution_count": 10,
   "metadata": {},
   "outputs": [
    {
     "name": "stdout",
     "output_type": "stream",
     "text": [
      "[  0   0   0   0   0   0   0   0   0   0   0   0   0   0   0   0   0   0\n",
      "   0   0   0   0   0   0   0   0   0   0   0   0   0   0   0   0   0   0\n",
      "   0   0   0   0   0   0   0   0   0   0   0   0   0   0   0   0   0   0\n",
      "   0   0   0   0   0   0   0   0   0   0   0   0   0   0   0   0   0   0\n",
      "   0   0   0   0   0   0   0   0   0   0   0   0   0   0   0   0   0   0\n",
      "   0   0   0   0   0   0   0   0   0   0   0   0   0   0   0   0   0   0\n",
      "   0   0   0   0   0   0   0   0   0   0   0   0   0   0   0   0   0   0\n",
      "   0   0   0   0   0   0   0   0   0   0   0   0   0   0   0   0   0   0\n",
      "   0   0   0   0   0   0   0   0   3  18  18  18 126 136 175  26 166 255\n",
      " 247 127   0   0   0   0   0   0   0   0   0   0   0   0  30  36  94 154\n",
      " 170 253 253 253 253 253 225 172 253 242 195  64   0   0   0   0   0   0\n",
      "   0   0   0   0   0  49 238 253 253 253 253 253 253 253 253 251  93  82\n",
      "  82  56  39   0   0   0   0   0   0   0   0   0   0   0   0  18 219 253\n",
      " 253 253 253 253 198 182 247 241   0   0   0   0   0   0   0   0   0   0\n",
      "   0   0   0   0   0   0   0   0  80 156 107 253 253 205  11   0  43 154\n",
      "   0   0   0   0   0   0   0   0   0   0   0   0   0   0   0   0   0   0\n",
      "   0  14   1 154 253  90   0   0   0   0   0   0   0   0   0   0   0   0\n",
      "   0   0   0   0   0   0   0   0   0   0   0   0   0 139 253 190   2   0\n",
      "   0   0   0   0   0   0   0   0   0   0   0   0   0   0   0   0   0   0\n",
      "   0   0   0   0   0  11 190 253  70   0   0   0   0   0   0   0   0   0\n",
      "   0   0   0   0   0   0   0   0   0   0   0   0   0   0   0   0  35 241\n",
      " 225 160 108   1   0   0   0   0   0   0   0   0   0   0   0   0   0   0\n",
      "   0   0   0   0   0   0   0   0   0  81 240 253 253 119  25   0   0   0\n",
      "   0   0   0   0   0   0   0   0   0   0   0   0   0   0   0   0   0   0\n",
      "   0   0  45 186 253 253 150  27   0   0   0   0   0   0   0   0   0   0\n",
      "   0   0   0   0   0   0   0   0   0   0   0   0   0  16  93 252 253 187\n",
      "   0   0   0   0   0   0   0   0   0   0   0   0   0   0   0   0   0   0\n",
      "   0   0   0   0   0   0   0 249 253 249  64   0   0   0   0   0   0   0\n",
      "   0   0   0   0   0   0   0   0   0   0   0   0   0   0  46 130 183 253\n",
      " 253 207   2   0   0   0   0   0   0   0   0   0   0   0   0   0   0   0\n",
      "   0   0   0   0  39 148 229 253 253 253 250 182   0   0   0   0   0   0\n",
      "   0   0   0   0   0   0   0   0   0   0   0   0  24 114 221 253 253 253\n",
      " 253 201  78   0   0   0   0   0   0   0   0   0   0   0   0   0   0   0\n",
      "   0   0  23  66 213 253 253 253 253 198  81   2   0   0   0   0   0   0\n",
      "   0   0   0   0   0   0   0   0   0   0  18 171 219 253 253 253 253 195\n",
      "  80   9   0   0   0   0   0   0   0   0   0   0   0   0   0   0   0   0\n",
      "  55 172 226 253 253 253 253 244 133  11   0   0   0   0   0   0   0   0\n",
      "   0   0   0   0   0   0   0   0   0   0 136 253 253 253 212 135 132  16\n",
      "   0   0   0   0   0   0   0   0   0   0   0   0   0   0   0   0   0   0\n",
      "   0   0   0   0   0   0   0   0   0   0   0   0   0   0   0   0   0   0\n",
      "   0   0   0   0   0   0   0   0   0   0   0   0   0   0   0   0   0   0\n",
      "   0   0   0   0   0   0   0   0   0   0   0   0   0   0   0   0   0   0\n",
      "   0   0   0   0   0   0   0   0   0   0   0   0   0   0   0   0   0   0\n",
      "   0   0   0   0   0   0   0   0   0   0]\n"
     ]
    }
   ],
   "source": [
    "# An example data point\n",
    "print(X_train[0])"
   ]
  },
  {
   "cell_type": "code",
   "execution_count": 11,
   "metadata": {},
   "outputs": [],
   "source": [
    "# X => (X - Xmin)/(Xmax-Xmin) = X/255\n",
    "#normalization\n",
    "X_train = X_train/255\n",
    "X_test = X_test/255"
   ]
  },
  {
   "cell_type": "code",
   "execution_count": 13,
   "metadata": {},
   "outputs": [
    {
     "name": "stdout",
     "output_type": "stream",
     "text": [
      "[0.         0.         0.         0.         0.         0.\n",
      " 0.         0.         0.         0.         0.         0.\n",
      " 0.         0.         0.         0.         0.         0.\n",
      " 0.         0.         0.         0.         0.         0.\n",
      " 0.         0.         0.         0.         0.         0.\n",
      " 0.         0.         0.         0.         0.         0.\n",
      " 0.         0.         0.         0.         0.         0.\n",
      " 0.         0.         0.         0.         0.         0.\n",
      " 0.         0.         0.         0.         0.         0.\n",
      " 0.         0.         0.         0.         0.         0.\n",
      " 0.         0.         0.         0.         0.         0.\n",
      " 0.         0.         0.         0.         0.         0.\n",
      " 0.         0.         0.         0.         0.         0.\n",
      " 0.         0.         0.         0.         0.         0.\n",
      " 0.         0.         0.         0.         0.         0.\n",
      " 0.         0.         0.         0.         0.         0.\n",
      " 0.         0.         0.         0.         0.         0.\n",
      " 0.         0.         0.         0.         0.         0.\n",
      " 0.         0.         0.         0.         0.         0.\n",
      " 0.         0.         0.         0.         0.         0.\n",
      " 0.         0.         0.         0.         0.         0.\n",
      " 0.         0.         0.         0.         0.         0.\n",
      " 0.         0.         0.         0.         0.         0.\n",
      " 0.         0.         0.         0.         0.         0.\n",
      " 0.         0.         0.         0.         0.         0.\n",
      " 0.         0.         0.01176471 0.07058824 0.07058824 0.07058824\n",
      " 0.49411765 0.53333333 0.68627451 0.10196078 0.65098039 1.\n",
      " 0.96862745 0.49803922 0.         0.         0.         0.\n",
      " 0.         0.         0.         0.         0.         0.\n",
      " 0.         0.         0.11764706 0.14117647 0.36862745 0.60392157\n",
      " 0.66666667 0.99215686 0.99215686 0.99215686 0.99215686 0.99215686\n",
      " 0.88235294 0.6745098  0.99215686 0.94901961 0.76470588 0.25098039\n",
      " 0.         0.         0.         0.         0.         0.\n",
      " 0.         0.         0.         0.         0.         0.19215686\n",
      " 0.93333333 0.99215686 0.99215686 0.99215686 0.99215686 0.99215686\n",
      " 0.99215686 0.99215686 0.99215686 0.98431373 0.36470588 0.32156863\n",
      " 0.32156863 0.21960784 0.15294118 0.         0.         0.\n",
      " 0.         0.         0.         0.         0.         0.\n",
      " 0.         0.         0.         0.07058824 0.85882353 0.99215686\n",
      " 0.99215686 0.99215686 0.99215686 0.99215686 0.77647059 0.71372549\n",
      " 0.96862745 0.94509804 0.         0.         0.         0.\n",
      " 0.         0.         0.         0.         0.         0.\n",
      " 0.         0.         0.         0.         0.         0.\n",
      " 0.         0.         0.31372549 0.61176471 0.41960784 0.99215686\n",
      " 0.99215686 0.80392157 0.04313725 0.         0.16862745 0.60392157\n",
      " 0.         0.         0.         0.         0.         0.\n",
      " 0.         0.         0.         0.         0.         0.\n",
      " 0.         0.         0.         0.         0.         0.\n",
      " 0.         0.05490196 0.00392157 0.60392157 0.99215686 0.35294118\n",
      " 0.         0.         0.         0.         0.         0.\n",
      " 0.         0.         0.         0.         0.         0.\n",
      " 0.         0.         0.         0.         0.         0.\n",
      " 0.         0.         0.         0.         0.         0.\n",
      " 0.         0.54509804 0.99215686 0.74509804 0.00784314 0.\n",
      " 0.         0.         0.         0.         0.         0.\n",
      " 0.         0.         0.         0.         0.         0.\n",
      " 0.         0.         0.         0.         0.         0.\n",
      " 0.         0.         0.         0.         0.         0.04313725\n",
      " 0.74509804 0.99215686 0.2745098  0.         0.         0.\n",
      " 0.         0.         0.         0.         0.         0.\n",
      " 0.         0.         0.         0.         0.         0.\n",
      " 0.         0.         0.         0.         0.         0.\n",
      " 0.         0.         0.         0.         0.1372549  0.94509804\n",
      " 0.88235294 0.62745098 0.42352941 0.00392157 0.         0.\n",
      " 0.         0.         0.         0.         0.         0.\n",
      " 0.         0.         0.         0.         0.         0.\n",
      " 0.         0.         0.         0.         0.         0.\n",
      " 0.         0.         0.         0.31764706 0.94117647 0.99215686\n",
      " 0.99215686 0.46666667 0.09803922 0.         0.         0.\n",
      " 0.         0.         0.         0.         0.         0.\n",
      " 0.         0.         0.         0.         0.         0.\n",
      " 0.         0.         0.         0.         0.         0.\n",
      " 0.         0.         0.17647059 0.72941176 0.99215686 0.99215686\n",
      " 0.58823529 0.10588235 0.         0.         0.         0.\n",
      " 0.         0.         0.         0.         0.         0.\n",
      " 0.         0.         0.         0.         0.         0.\n",
      " 0.         0.         0.         0.         0.         0.\n",
      " 0.         0.0627451  0.36470588 0.98823529 0.99215686 0.73333333\n",
      " 0.         0.         0.         0.         0.         0.\n",
      " 0.         0.         0.         0.         0.         0.\n",
      " 0.         0.         0.         0.         0.         0.\n",
      " 0.         0.         0.         0.         0.         0.\n",
      " 0.         0.97647059 0.99215686 0.97647059 0.25098039 0.\n",
      " 0.         0.         0.         0.         0.         0.\n",
      " 0.         0.         0.         0.         0.         0.\n",
      " 0.         0.         0.         0.         0.         0.\n",
      " 0.         0.         0.18039216 0.50980392 0.71764706 0.99215686\n",
      " 0.99215686 0.81176471 0.00784314 0.         0.         0.\n",
      " 0.         0.         0.         0.         0.         0.\n",
      " 0.         0.         0.         0.         0.         0.\n",
      " 0.         0.         0.         0.         0.15294118 0.58039216\n",
      " 0.89803922 0.99215686 0.99215686 0.99215686 0.98039216 0.71372549\n",
      " 0.         0.         0.         0.         0.         0.\n",
      " 0.         0.         0.         0.         0.         0.\n",
      " 0.         0.         0.         0.         0.         0.\n",
      " 0.09411765 0.44705882 0.86666667 0.99215686 0.99215686 0.99215686\n",
      " 0.99215686 0.78823529 0.30588235 0.         0.         0.\n",
      " 0.         0.         0.         0.         0.         0.\n",
      " 0.         0.         0.         0.         0.         0.\n",
      " 0.         0.         0.09019608 0.25882353 0.83529412 0.99215686\n",
      " 0.99215686 0.99215686 0.99215686 0.77647059 0.31764706 0.00784314\n",
      " 0.         0.         0.         0.         0.         0.\n",
      " 0.         0.         0.         0.         0.         0.\n",
      " 0.         0.         0.         0.         0.07058824 0.67058824\n",
      " 0.85882353 0.99215686 0.99215686 0.99215686 0.99215686 0.76470588\n",
      " 0.31372549 0.03529412 0.         0.         0.         0.\n",
      " 0.         0.         0.         0.         0.         0.\n",
      " 0.         0.         0.         0.         0.         0.\n",
      " 0.21568627 0.6745098  0.88627451 0.99215686 0.99215686 0.99215686\n",
      " 0.99215686 0.95686275 0.52156863 0.04313725 0.         0.\n",
      " 0.         0.         0.         0.         0.         0.\n",
      " 0.         0.         0.         0.         0.         0.\n",
      " 0.         0.         0.         0.         0.53333333 0.99215686\n",
      " 0.99215686 0.99215686 0.83137255 0.52941176 0.51764706 0.0627451\n",
      " 0.         0.         0.         0.         0.         0.\n",
      " 0.         0.         0.         0.         0.         0.\n",
      " 0.         0.         0.         0.         0.         0.\n",
      " 0.         0.         0.         0.         0.         0.\n",
      " 0.         0.         0.         0.         0.         0.\n",
      " 0.         0.         0.         0.         0.         0.\n",
      " 0.         0.         0.         0.         0.         0.\n",
      " 0.         0.         0.         0.         0.         0.\n",
      " 0.         0.         0.         0.         0.         0.\n",
      " 0.         0.         0.         0.         0.         0.\n",
      " 0.         0.         0.         0.         0.         0.\n",
      " 0.         0.         0.         0.         0.         0.\n",
      " 0.         0.         0.         0.         0.         0.\n",
      " 0.         0.         0.         0.         0.         0.\n",
      " 0.         0.         0.         0.         0.         0.\n",
      " 0.         0.         0.         0.         0.         0.\n",
      " 0.         0.         0.         0.        ]\n"
     ]
    }
   ],
   "source": [
    "print(X_train[0])"
   ]
  },
  {
   "cell_type": "code",
   "execution_count": 14,
   "metadata": {},
   "outputs": [
    {
     "name": "stdout",
     "output_type": "stream",
     "text": [
      "Class label of first image : 5\n"
     ]
    }
   ],
   "source": [
    "print(\"Class label of first image :\", y_train[0])"
   ]
  },
  {
   "cell_type": "code",
   "execution_count": 15,
   "metadata": {},
   "outputs": [
    {
     "name": "stdout",
     "output_type": "stream",
     "text": [
      "After converting the output into a vector :  [0. 0. 0. 0. 0. 1. 0. 0. 0. 0.]\n"
     ]
    }
   ],
   "source": [
    "Y_train = np_utils.to_categorical(y_train, 10) \n",
    "Y_test = np_utils.to_categorical(y_test, 10)\n",
    "\n",
    "print(\"After converting the output into a vector : \",Y_train[0])"
   ]
  },
  {
   "cell_type": "code",
   "execution_count": 16,
   "metadata": {},
   "outputs": [],
   "source": [
    "from keras.models import Sequential \n",
    "from keras.layers import Dense, Activation"
   ]
  },
  {
   "cell_type": "code",
   "execution_count": 17,
   "metadata": {},
   "outputs": [],
   "source": [
    "output_dim = 10\n",
    "input_dim = X_train.shape[1]\n",
    "\n",
    "batch_size = 128 \n",
    "nb_epoch = 20"
   ]
  },
  {
   "cell_type": "code",
   "execution_count": 18,
   "metadata": {},
   "outputs": [],
   "source": [
    "model=Sequential()\n",
    "\n",
    "model.add(Dense(output_dim,input_dim=input_dim,activation='softmax'))"
   ]
  },
  {
   "cell_type": "code",
   "execution_count": 19,
   "metadata": {},
   "outputs": [],
   "source": [
    "model.compile(optimizer='sgd', loss='categorical_crossentropy', metrics=['accuracy'])"
   ]
  },
  {
   "cell_type": "code",
   "execution_count": 27,
   "metadata": {},
   "outputs": [
    {
     "name": "stdout",
     "output_type": "stream",
     "text": [
      "Train on 60000 samples, validate on 10000 samples\n",
      "Epoch 1/20\n",
      "60000/60000 [==============================] - 1s 10us/step - loss: 0.3512 - accuracy: 0.9030 - val_loss: 0.3324 - val_accuracy: 0.9093\n",
      "Epoch 2/20\n",
      "60000/60000 [==============================] - 1s 9us/step - loss: 0.3485 - accuracy: 0.9034 - val_loss: 0.3298 - val_accuracy: 0.9104\n",
      "Epoch 3/20\n",
      "60000/60000 [==============================] - 1s 9us/step - loss: 0.3459 - accuracy: 0.9042 - val_loss: 0.3278 - val_accuracy: 0.9103\n",
      "Epoch 4/20\n",
      "60000/60000 [==============================] - 1s 9us/step - loss: 0.3436 - accuracy: 0.9046 - val_loss: 0.3257 - val_accuracy: 0.9111\n",
      "Epoch 5/20\n",
      "60000/60000 [==============================] - 1s 10us/step - loss: 0.3413 - accuracy: 0.9054 - val_loss: 0.3238 - val_accuracy: 0.9120\n",
      "Epoch 6/20\n",
      "60000/60000 [==============================] - 1s 10us/step - loss: 0.3392 - accuracy: 0.9058 - val_loss: 0.3220 - val_accuracy: 0.9119\n",
      "Epoch 7/20\n",
      "60000/60000 [==============================] - 1s 10us/step - loss: 0.3373 - accuracy: 0.9061 - val_loss: 0.3205 - val_accuracy: 0.9123\n",
      "Epoch 8/20\n",
      "60000/60000 [==============================] - ETA: 0s - loss: 0.3338 - accuracy: 0.90 - 1s 9us/step - loss: 0.3354 - accuracy: 0.9066 - val_loss: 0.3188 - val_accuracy: 0.9130\n",
      "Epoch 9/20\n",
      "60000/60000 [==============================] - 1s 9us/step - loss: 0.3336 - accuracy: 0.9070 - val_loss: 0.3173 - val_accuracy: 0.9132\n",
      "Epoch 10/20\n",
      "60000/60000 [==============================] - 1s 9us/step - loss: 0.3319 - accuracy: 0.9074 - val_loss: 0.3160 - val_accuracy: 0.9134\n",
      "Epoch 11/20\n",
      "60000/60000 [==============================] - 1s 10us/step - loss: 0.3303 - accuracy: 0.9079 - val_loss: 0.3145 - val_accuracy: 0.9140\n",
      "Epoch 12/20\n",
      "60000/60000 [==============================] - 1s 10us/step - loss: 0.3288 - accuracy: 0.9081 - val_loss: 0.3134 - val_accuracy: 0.9139\n",
      "Epoch 13/20\n",
      "60000/60000 [==============================] - 1s 9us/step - loss: 0.3274 - accuracy: 0.9088 - val_loss: 0.3120 - val_accuracy: 0.9144\n",
      "Epoch 14/20\n",
      "60000/60000 [==============================] - 1s 10us/step - loss: 0.3260 - accuracy: 0.9089 - val_loss: 0.3111 - val_accuracy: 0.9147\n",
      "Epoch 15/20\n",
      "60000/60000 [==============================] - 1s 9us/step - loss: 0.3247 - accuracy: 0.9095 - val_loss: 0.3099 - val_accuracy: 0.9148\n",
      "Epoch 16/20\n",
      "60000/60000 [==============================] - 1s 10us/step - loss: 0.3234 - accuracy: 0.9098 - val_loss: 0.3090 - val_accuracy: 0.9140\n",
      "Epoch 17/20\n",
      "60000/60000 [==============================] - 1s 10us/step - loss: 0.3222 - accuracy: 0.9104 - val_loss: 0.3079 - val_accuracy: 0.9142\n",
      "Epoch 18/20\n",
      "60000/60000 [==============================] - 1s 11us/step - loss: 0.3210 - accuracy: 0.9103 - val_loss: 0.3069 - val_accuracy: 0.9151\n",
      "Epoch 19/20\n",
      "60000/60000 [==============================] - 1s 10us/step - loss: 0.3198 - accuracy: 0.9109 - val_loss: 0.3060 - val_accuracy: 0.9153\n",
      "Epoch 20/20\n",
      "60000/60000 [==============================] - 1s 9us/step - loss: 0.3188 - accuracy: 0.9111 - val_loss: 0.3051 - val_accuracy: 0.9157\n"
     ]
    }
   ],
   "source": [
    "#fit(self, x=None, y=None, batch_size=None, epochs=1, verbose=1, callbacks=None, validation_split=0.0, \n",
    "# validation_data=None, shuffle=True, class_weight=None, sample_weight=None, initial_epoch=0, steps_per_epoch=None, \n",
    "# validation_steps=None)\n",
    "\n",
    "history = model.fit(X_train, Y_train, batch_size=batch_size, epochs=nb_epoch, verbose=1, validation_data=(X_test, Y_test)) \n"
   ]
  },
  {
   "cell_type": "code",
   "execution_count": 29,
   "metadata": {},
   "outputs": [
    {
     "name": "stdout",
     "output_type": "stream",
     "text": [
      "Test score: 0.30509893894195556\n",
      "Test accuracy: 0.9157000184059143\n"
     ]
    }
   ],
   "source": [
    "score=model.evaluate(X_test,Y_test,verbose=0)\n",
    "print('Test score:', score[0]) \n",
    "print('Test accuracy:', score[1])\n",
    "\n"
   ]
  },
  {
   "cell_type": "code",
   "execution_count": 30,
   "metadata": {},
   "outputs": [
    {
     "name": "stdout",
     "output_type": "stream",
     "text": [
      "Model: \"sequential_2\"\n",
      "_________________________________________________________________\n",
      "Layer (type)                 Output Shape              Param #   \n",
      "=================================================================\n",
      "dense_2 (Dense)              (None, 512)               401920    \n",
      "_________________________________________________________________\n",
      "dense_3 (Dense)              (None, 128)               65664     \n",
      "_________________________________________________________________\n",
      "dense_4 (Dense)              (None, 10)                1290      \n",
      "=================================================================\n",
      "Total params: 468,874\n",
      "Trainable params: 468,874\n",
      "Non-trainable params: 0\n",
      "_________________________________________________________________\n"
     ]
    }
   ],
   "source": [
    "model_sigmoid = Sequential()\n",
    "model_sigmoid.add(Dense(512, activation='sigmoid', input_shape=(input_dim,)))\n",
    "model_sigmoid.add(Dense(128, activation='sigmoid'))\n",
    "model_sigmoid.add(Dense(output_dim, activation='softmax'))\n",
    "\n",
    "model_sigmoid.summary()"
   ]
  },
  {
   "cell_type": "code",
   "execution_count": 31,
   "metadata": {},
   "outputs": [
    {
     "name": "stdout",
     "output_type": "stream",
     "text": [
      "Train on 60000 samples, validate on 10000 samples\n",
      "Epoch 1/20\n",
      "60000/60000 [==============================] - 3s 43us/step - loss: 2.2740 - accuracy: 0.2073 - val_loss: 2.2242 - val_accuracy: 0.2459\n",
      "Epoch 2/20\n",
      "60000/60000 [==============================] - 2s 39us/step - loss: 2.1795 - accuracy: 0.4478 - val_loss: 2.1229 - val_accuracy: 0.5299\n",
      "Epoch 3/20\n",
      "60000/60000 [==============================] - 3s 42us/step - loss: 2.0604 - accuracy: 0.5829 - val_loss: 1.9767 - val_accuracy: 0.6926\n",
      "Epoch 4/20\n",
      "60000/60000 [==============================] - 3s 44us/step - loss: 1.8901 - accuracy: 0.6608 - val_loss: 1.7750 - val_accuracy: 0.6598\n",
      "Epoch 5/20\n",
      "60000/60000 [==============================] - 2s 40us/step - loss: 1.6693 - accuracy: 0.6997 - val_loss: 1.5363 - val_accuracy: 0.6985\n",
      "Epoch 6/20\n",
      "60000/60000 [==============================] - 3s 42us/step - loss: 1.4346 - accuracy: 0.7308 - val_loss: 1.3070 - val_accuracy: 0.7629\n",
      "Epoch 7/20\n",
      "60000/60000 [==============================] - 3s 44us/step - loss: 1.2277 - accuracy: 0.7619 - val_loss: 1.1209 - val_accuracy: 0.7857\n",
      "Epoch 8/20\n",
      "60000/60000 [==============================] - 3s 45us/step - loss: 1.0633 - accuracy: 0.7836 - val_loss: 0.9775 - val_accuracy: 0.7997\n",
      "Epoch 9/20\n",
      "60000/60000 [==============================] - 3s 45us/step - loss: 0.9368 - accuracy: 0.8007 - val_loss: 0.8675 - val_accuracy: 0.8137\n",
      "Epoch 10/20\n",
      "60000/60000 [==============================] - 3s 50us/step - loss: 0.8399 - accuracy: 0.8136 - val_loss: 0.7819 - val_accuracy: 0.8225\n",
      "Epoch 11/20\n",
      "60000/60000 [==============================] - 3s 51us/step - loss: 0.7644 - accuracy: 0.8242 - val_loss: 0.7153 - val_accuracy: 0.8363\n",
      "Epoch 12/20\n",
      "60000/60000 [==============================] - 3s 49us/step - loss: 0.7048 - accuracy: 0.8338 - val_loss: 0.6618 - val_accuracy: 0.8430\n",
      "Epoch 13/20\n",
      "60000/60000 [==============================] - 3s 45us/step - loss: 0.6565 - accuracy: 0.8410 - val_loss: 0.6186 - val_accuracy: 0.8510\n",
      "Epoch 14/20\n",
      "60000/60000 [==============================] - 3s 49us/step - loss: 0.6171 - accuracy: 0.8483 - val_loss: 0.5828 - val_accuracy: 0.8563\n",
      "Epoch 15/20\n",
      "60000/60000 [==============================] - 3s 47us/step - loss: 0.5843 - accuracy: 0.8539 - val_loss: 0.5525 - val_accuracy: 0.8619\n",
      "Epoch 16/20\n",
      "60000/60000 [==============================] - 3s 48us/step - loss: 0.5566 - accuracy: 0.8587 - val_loss: 0.5276 - val_accuracy: 0.8645\n",
      "Epoch 17/20\n",
      "60000/60000 [==============================] - 3s 51us/step - loss: 0.5330 - accuracy: 0.8630 - val_loss: 0.5054 - val_accuracy: 0.8707\n",
      "Epoch 18/20\n",
      "60000/60000 [==============================] - 3s 45us/step - loss: 0.5126 - accuracy: 0.8677 - val_loss: 0.4864 - val_accuracy: 0.8741\n",
      "Epoch 19/20\n",
      "60000/60000 [==============================] - 3s 47us/step - loss: 0.4949 - accuracy: 0.8713 - val_loss: 0.4701 - val_accuracy: 0.8773\n",
      "Epoch 20/20\n",
      "60000/60000 [==============================] - 3s 49us/step - loss: 0.4792 - accuracy: 0.8743 - val_loss: 0.4550 - val_accuracy: 0.8798\n"
     ]
    }
   ],
   "source": [
    "model_sigmoid.compile(optimizer='sgd', loss='categorical_crossentropy', metrics=['accuracy'])\n",
    "\n",
    "history = model_sigmoid.fit(X_train, Y_train, batch_size=batch_size, epochs=nb_epoch, verbose=1, validation_data=(X_test, Y_test))\n"
   ]
  },
  {
   "cell_type": "code",
   "execution_count": 32,
   "metadata": {},
   "outputs": [
    {
     "name": "stdout",
     "output_type": "stream",
     "text": [
      "Test score: 0.4549542363882065\n",
      "Test accuracy: 0.879800021648407\n"
     ]
    },
    {
     "data": {
      "image/png": "[encoded data removed]",
      "text/plain": [
       "<Figure size 432x288 with 1 Axes>"
      ]
     },
     "metadata": {
      "needs_background": "light"
     },
     "output_type": "display_data"
    }
   ],
   "source": [
    "score = model_sigmoid.evaluate(X_test, Y_test, verbose=0) \n",
    "print('Test score:', score[0]) \n",
    "print('Test accuracy:', score[1])\n",
    "\n",
    "fig,ax = plt.subplots(1,1)\n",
    "ax.set_xlabel('epoch') ; ax.set_ylabel('Categorical Crossentropy Loss')\n",
    "\n",
    "# list of epoch numbers\n",
    "x = list(range(1,nb_epoch+1))\n",
    "\n",
    "# print(history.history.keys())\n",
    "\n",
    "# loss : training loss\n",
    "# acc : train accuracy\n",
    "\n",
    "vy = history.history['val_loss']\n",
    "ty = history.history['loss']\n",
    "plt_dynamic(x, vy, ty, ax)"
   ]
  },
  {
   "cell_type": "code",
   "execution_count": 33,
   "metadata": {},
   "outputs": [
    {
     "name": "stdout",
     "output_type": "stream",
     "text": [
      "[array([[-0.04188778,  0.06492178,  0.03481299, ..., -0.05531162,\n",
      "         0.01176345,  0.05899863],\n",
      "       [ 0.05700713,  0.0101068 ,  0.04268908, ...,  0.02476767,\n",
      "        -0.0396435 , -0.05631358],\n",
      "       [-0.04965842, -0.01518022, -0.06394722, ..., -0.05358589,\n",
      "         0.05440786,  0.03332383],\n",
      "       ...,\n",
      "       [-0.04890249, -0.01314173, -0.06527316, ...,  0.00462505,\n",
      "        -0.03102874,  0.06730598],\n",
      "       [-0.01095265, -0.03860639, -0.06525486, ...,  0.00307728,\n",
      "         0.04905628, -0.05297097],\n",
      "       [ 0.01977882, -0.04379994,  0.05353012, ...,  0.06431136,\n",
      "         0.04076011,  0.02227404]], dtype=float32), array([ 3.90296103e-03, -6.24549109e-03, -4.89490572e-03, -5.90701215e-03,\n",
      "        5.09114889e-03, -3.56924534e-03,  1.03766164e-02,  9.60872788e-03,\n",
      "       -9.10819508e-03, -1.08934734e-02, -1.16700390e-02, -1.00230775e-03,\n",
      "        8.16113374e-04,  1.25705177e-04,  6.85915817e-03,  5.36682084e-04,\n",
      "       -6.09627052e-04, -1.33465929e-02, -9.10114264e-04, -1.54805491e-02,\n",
      "       -6.73152599e-03, -5.17473556e-03,  1.91846804e-03, -8.13505612e-03,\n",
      "       -9.20644961e-03,  6.08810969e-03, -1.77172874e-03,  6.36033341e-03,\n",
      "        2.61144922e-03, -8.73291027e-03, -3.35506606e-03, -1.13478592e-02,\n",
      "        2.81484774e-03, -3.25999549e-03, -8.06735922e-03,  1.87700280e-04,\n",
      "        3.48249823e-03,  5.23017300e-03, -7.57449120e-03, -1.57890208e-02,\n",
      "        2.56325561e-03,  1.51437689e-02,  3.25210253e-03,  1.66689313e-03,\n",
      "        1.20019121e-02,  1.29521394e-03, -7.27334386e-03,  4.24030237e-03,\n",
      "        7.98600959e-04, -3.23417760e-03, -4.64226527e-04,  1.20621324e-02,\n",
      "       -2.33013113e-03,  2.10758448e-02,  1.02942968e-02, -1.04358757e-03,\n",
      "        9.05084983e-03, -4.78837593e-03,  9.99266934e-03, -1.26146246e-02,\n",
      "       -2.60545104e-03, -2.68342963e-04, -8.87674280e-03, -8.23400624e-04,\n",
      "       -3.21998703e-03, -3.87669983e-03,  2.08702590e-03,  3.41238640e-03,\n",
      "       -2.15919543e-04,  5.73580619e-03, -3.42613575e-03,  4.47087176e-03,\n",
      "       -1.29818637e-02,  3.67103639e-04,  1.34746917e-02, -2.22730706e-03,\n",
      "        7.06071919e-03,  6.62325323e-03,  6.05646893e-03, -1.07597734e-03,\n",
      "       -1.44752050e-02, -3.23603814e-03, -3.59305879e-03,  3.48852249e-03,\n",
      "        1.47063257e-02,  2.37701577e-03, -1.77451763e-02,  2.14222055e-02,\n",
      "        1.15888705e-02, -6.53378153e-03, -1.54889449e-02, -3.85421026e-03,\n",
      "       -1.28182815e-03,  5.07442793e-03,  1.76738948e-03,  1.38979661e-03,\n",
      "       -2.85980670e-04, -1.41210482e-02, -7.78024318e-03,  4.47999313e-03,\n",
      "        4.29993123e-03,  8.89769010e-03, -1.46820145e-02,  4.02624812e-03,\n",
      "        8.04028194e-03,  6.07722672e-04,  4.17264644e-03,  2.07661046e-03,\n",
      "        3.32646677e-03, -4.90024732e-03,  1.04756076e-02,  1.36511587e-02,\n",
      "        1.59383495e-03, -6.61508413e-03, -4.74383403e-03,  1.18756387e-02,\n",
      "        3.19846836e-03, -5.29723754e-03,  4.62536141e-03, -6.50473521e-04,\n",
      "       -4.63364273e-03, -5.11436770e-03, -3.59039172e-03, -1.68483506e-03,\n",
      "        2.73770187e-03, -1.12167723e-03,  3.10496916e-03,  1.07034501e-02,\n",
      "       -3.56649049e-03, -2.37212327e-04, -1.96099114e-02,  5.97184105e-03,\n",
      "       -4.15246328e-03, -1.63707547e-02, -1.40834590e-02,  7.50952121e-03,\n",
      "       -5.19459043e-03,  2.04139180e-03, -3.05806752e-03, -4.36424091e-03,\n",
      "        3.79051291e-03, -6.10203063e-03,  8.51883180e-03,  2.49371445e-03,\n",
      "        8.37342814e-03,  8.17512348e-03, -1.84423989e-03,  6.90676505e-03,\n",
      "        9.00025386e-03,  1.17117772e-03, -6.42939517e-03,  2.15751491e-03,\n",
      "       -3.18882591e-03,  7.55539257e-03,  1.40563082e-02,  5.91947604e-03,\n",
      "       -7.50508485e-03, -4.48371656e-03, -1.41144637e-02,  5.26963081e-03,\n",
      "        4.64845821e-03,  5.34395280e-04,  1.69243328e-02,  2.12414563e-03,\n",
      "        2.20260513e-03, -1.11021299e-03,  1.24685315e-03,  8.34090076e-03,\n",
      "       -5.49963256e-03,  5.64750750e-03,  1.12331221e-02, -3.68467590e-04,\n",
      "       -1.46663666e-03, -3.28324223e-03,  1.03463838e-02, -1.61192156e-02,\n",
      "       -3.39902495e-03,  7.37595698e-03, -2.81178392e-03, -3.61575116e-03,\n",
      "        6.60798699e-03,  9.90979094e-03, -1.38933593e-02,  3.81506234e-03,\n",
      "       -1.70513839e-02, -5.22922957e-03, -1.19283479e-02, -2.27953278e-04,\n",
      "        2.02949275e-03,  2.30366574e-03,  1.86270569e-03,  5.95170259e-03,\n",
      "        5.68301330e-05,  2.94862734e-03, -1.64234394e-03,  3.73741286e-03,\n",
      "       -8.63840454e-04,  3.07028648e-03, -1.33086942e-04, -3.35473451e-04,\n",
      "        7.91673735e-03,  2.15575658e-03,  4.01732931e-03,  1.05691329e-02,\n",
      "       -6.80855941e-03, -6.12368481e-03,  4.37311083e-03, -6.64050877e-03,\n",
      "        4.90483269e-03,  4.37942380e-03, -3.62983905e-03,  1.69090219e-02,\n",
      "       -5.54683898e-03, -1.64557882e-02,  1.19168148e-03, -5.72465081e-03,\n",
      "       -1.90457527e-03, -2.36871839e-03, -1.53162773e-03,  1.42913163e-02,\n",
      "       -9.11546405e-03, -6.99466094e-03,  2.59027211e-03,  1.63849909e-02,\n",
      "        6.41143275e-03,  4.23973193e-03, -3.26903514e-03, -1.16805350e-02,\n",
      "        1.25452336e-02, -6.29191054e-03,  3.08763399e-03,  8.67328054e-05,\n",
      "       -1.28159800e-03, -1.17831603e-02,  1.07500618e-02,  5.86732943e-03,\n",
      "       -9.49757546e-03,  5.30074758e-04,  1.58237095e-03,  1.46044483e-02,\n",
      "       -3.40503320e-04,  1.16439881e-02, -3.35649634e-03, -5.10487380e-03,\n",
      "        2.60074477e-04, -7.78174435e-04,  5.37100481e-04,  5.29395649e-03,\n",
      "        2.30091903e-03,  1.81188399e-03, -7.58575322e-03, -1.15977637e-02,\n",
      "        1.00350901e-02,  3.54907918e-03,  3.80832958e-03, -5.74822584e-03,\n",
      "       -2.81784870e-03, -5.41147310e-03,  1.94825209e-03, -4.75453259e-03,\n",
      "       -2.86575267e-03,  5.38142072e-03,  5.84097067e-03, -2.99422536e-03,\n",
      "       -1.59299951e-02, -3.86315538e-03,  1.90710917e-03,  4.54658596e-03,\n",
      "       -2.73202546e-03,  1.58754174e-05,  1.71275111e-03, -1.19192315e-04,\n",
      "       -5.31951385e-03, -6.67193672e-03,  7.58136064e-03, -1.16569856e-02,\n",
      "        8.91379360e-03, -6.61807694e-03, -1.41268698e-02,  2.28081457e-03,\n",
      "        3.26599251e-03, -4.31881472e-03, -2.40655267e-03,  6.73805410e-03,\n",
      "       -3.13907210e-03, -8.91679339e-03,  2.81788362e-03, -4.03590035e-03,\n",
      "       -2.89574335e-03,  2.78565870e-03, -1.99110457e-03,  7.59444293e-03,\n",
      "       -2.44436925e-03,  8.92808102e-03, -1.90032856e-03, -4.97837504e-03,\n",
      "       -1.50024216e-03,  2.33075858e-04, -5.50572341e-03, -1.32646039e-03,\n",
      "        1.42415548e-02, -3.70245869e-03,  2.24880893e-02,  6.43749256e-03,\n",
      "        2.10114731e-03,  1.23784458e-02,  9.55099007e-04,  3.42879351e-03,\n",
      "        1.84769381e-03, -6.53918413e-03,  7.69486232e-03,  2.30600080e-03,\n",
      "       -1.81929283e-02,  8.61028861e-03, -1.46695890e-03,  9.53635201e-03,\n",
      "        4.04097280e-03,  7.91202020e-03, -7.07304291e-03, -1.02218902e-02,\n",
      "       -6.52681245e-03, -1.31667880e-02,  7.40344636e-03, -3.85661400e-03,\n",
      "        6.71058602e-04,  9.27750021e-03, -5.49041957e-04,  1.71650797e-02,\n",
      "       -4.73272958e-04,  3.90677340e-03,  1.64361484e-03,  3.70236789e-03,\n",
      "       -7.45426444e-03,  1.07534276e-02, -7.81718455e-03, -3.02347983e-03,\n",
      "       -1.15891909e-02, -3.20611917e-03, -1.43558742e-03, -4.50867973e-03,\n",
      "       -2.68349511e-04,  5.31478436e-04,  6.63951132e-03, -4.56921710e-03,\n",
      "       -3.79300606e-03,  2.59072473e-03, -1.05532799e-02,  7.24847009e-03,\n",
      "       -2.09192513e-03, -1.46465015e-03,  1.22519373e-03,  2.08186843e-02,\n",
      "        4.81308205e-03, -9.93693527e-03,  1.37003437e-02, -1.06768496e-02,\n",
      "       -1.75315570e-02,  1.43445153e-02, -1.09949906e-03, -3.75937996e-03,\n",
      "        1.00288196e-02,  4.27952502e-04, -6.02449756e-03,  2.26430297e-02,\n",
      "        7.83356931e-03, -7.31109083e-03, -8.01891554e-03, -5.18139545e-03,\n",
      "       -8.23365618e-03, -1.36625106e-02, -8.33774172e-03, -1.77504122e-03,\n",
      "        3.26416199e-03,  8.08416214e-03, -5.83592337e-04,  2.90210918e-03,\n",
      "       -3.29873711e-03, -7.59510975e-03,  1.19350590e-02,  5.01824601e-04,\n",
      "       -1.43875089e-03, -4.22947621e-03, -2.07942892e-02, -7.14599201e-03,\n",
      "       -3.75057384e-03, -2.83101969e-03, -4.75234864e-03, -7.48158956e-04,\n",
      "       -4.24898462e-04,  1.71777722e-03,  1.14379311e-02,  6.78604096e-03,\n",
      "        4.08168836e-03,  2.81920121e-03,  6.33966923e-03,  2.98112701e-03,\n",
      "        1.32936342e-02, -1.49580445e-02,  4.29932168e-03, -9.08651389e-03,\n",
      "        1.29092596e-02, -2.76172208e-03,  1.01882471e-02,  1.45021034e-03,\n",
      "       -1.00384336e-02, -2.21009343e-03, -4.61593922e-03, -1.21218199e-03,\n",
      "        3.41897062e-03,  3.15358117e-03, -2.04061787e-03, -5.13873110e-03,\n",
      "       -1.49111310e-03,  2.59149587e-04, -1.37570244e-03, -5.47315460e-04,\n",
      "        7.46888760e-03, -1.02234399e-02, -1.91290316e-03,  7.40787387e-03,\n",
      "        4.63339314e-03,  4.11795080e-03,  5.49787364e-04, -6.78155664e-03,\n",
      "        3.59844766e-04, -4.25511738e-03,  4.29142056e-05, -1.32084917e-02,\n",
      "       -1.29588926e-03, -7.63635326e-04,  6.81193033e-03, -2.38160766e-03,\n",
      "        7.71548552e-03,  2.12548324e-03, -4.62228665e-03, -2.56954916e-02,\n",
      "        4.04988835e-03, -7.69144623e-04, -1.01977596e-02,  5.52937156e-04,\n",
      "        3.70252784e-03, -1.16275186e-02, -1.18814912e-02, -1.35157891e-02,\n",
      "        3.41114402e-03,  1.00947078e-02, -4.38578892e-03,  4.58096247e-03,\n",
      "        1.91706303e-03,  9.66526568e-03, -1.05394272e-03,  1.75742921e-03,\n",
      "        9.77522973e-03, -8.96633882e-03,  1.13888900e-03,  1.15640217e-03,\n",
      "       -3.51028773e-03, -7.10495701e-03, -1.00653721e-02, -1.40546355e-02,\n",
      "        7.59348134e-03,  8.26652104e-04,  2.10440177e-02,  2.55730771e-03,\n",
      "       -1.09110016e-03,  2.02223848e-04,  1.23771261e-02,  4.46804537e-04,\n",
      "        1.57606043e-02,  2.27377517e-03, -3.40808439e-03, -3.74555518e-03,\n",
      "       -7.40247266e-03, -2.17550521e-04, -7.78190000e-03,  2.28749756e-02,\n",
      "       -3.34699568e-03,  1.28993476e-02, -8.52948800e-03,  4.18358808e-03,\n",
      "       -2.64428766e-03,  8.63484200e-03,  6.59087487e-03,  7.42999325e-03,\n",
      "        3.79734137e-03, -2.48174393e-03,  7.64849223e-03, -6.68537989e-03,\n",
      "       -2.34067137e-03,  4.35792562e-03,  8.62105284e-03, -8.53559119e-04,\n",
      "        1.65423993e-02, -1.34780370e-02,  2.01408751e-03, -1.14764264e-02,\n",
      "       -5.43274358e-03, -7.33355945e-03,  9.43039777e-04,  4.98681748e-03,\n",
      "        8.54722969e-03,  3.78440390e-03,  1.01370448e-02, -2.77796551e-03,\n",
      "        4.27863235e-03, -7.05487677e-04, -6.57098717e-04,  8.30024760e-03,\n",
      "       -5.96487382e-03,  3.35166021e-03,  5.29836025e-03,  2.52717501e-03],\n",
      "      dtype=float32), array([[ 0.06862116, -0.07067394, -0.09786121, ...,  0.06391908,\n",
      "        -0.06303199, -0.10632531],\n",
      "       [ 0.07264355, -0.09387748, -0.08890642, ..., -0.07659676,\n",
      "        -0.00129861,  0.08938885],\n",
      "       [ 0.07354867, -0.09885823,  0.05562787, ...,  0.0096468 ,\n",
      "        -0.01730561,  0.05523426],\n",
      "       ...,\n",
      "       [-0.06317176, -0.10771868, -0.01868429, ...,  0.03850792,\n",
      "         0.0268256 , -0.01338376],\n",
      "       [ 0.06033908,  0.06914111,  0.0335449 , ...,  0.06679068,\n",
      "        -0.06540722,  0.09021515],\n",
      "       [ 0.09110539,  0.04772666,  0.04691033, ...,  0.08080313,\n",
      "         0.00776626,  0.08502252]], dtype=float32), array([-3.82682169e-03,  2.55303075e-05,  4.94588027e-03, -8.77664366e-04,\n",
      "        1.77076494e-03, -4.63565392e-03, -1.09501844e-02,  5.41200442e-03,\n",
      "        2.67537544e-03,  2.23157625e-03, -7.46662077e-03, -3.13008495e-04,\n",
      "        1.02913706e-03,  5.84459864e-03, -1.04857935e-03,  8.97281617e-03,\n",
      "       -1.28769139e-02, -5.76819573e-03, -4.11292742e-04, -5.16983215e-03,\n",
      "       -1.79900194e-03,  9.02792066e-03,  3.28387227e-03,  1.47735293e-03,\n",
      "       -2.54552043e-03,  4.61973809e-03, -1.06108068e-02, -3.37323127e-03,\n",
      "        3.43254372e-03, -1.35499332e-03, -9.04160785e-04, -7.75906141e-04,\n",
      "        2.15379172e-03,  5.02577145e-03,  7.10532814e-03, -9.87727847e-03,\n",
      "        1.17932092e-02, -5.97390765e-03, -4.06135479e-03, -8.22523888e-03,\n",
      "       -8.48789141e-03,  2.55243503e-03,  4.15008108e-04,  8.51816125e-03,\n",
      "       -6.96289586e-03, -3.28688323e-03, -4.41406155e-03, -1.49540938e-02,\n",
      "        1.33845059e-03,  9.48215253e-04, -1.61710382e-03,  3.36273806e-03,\n",
      "        3.52225313e-03, -4.71468177e-03,  9.28097591e-03, -3.09518049e-03,\n",
      "        6.57727569e-03, -9.95974289e-04, -1.98672293e-03,  6.17992645e-03,\n",
      "       -9.75074619e-03,  1.27934525e-02,  8.25426821e-03, -4.77544637e-03,\n",
      "       -1.64795015e-02, -2.27995263e-03, -5.05845901e-03,  7.64576544e-04,\n",
      "       -1.33650959e-03, -6.46845857e-03,  6.60188636e-03,  7.61854835e-03,\n",
      "       -8.28498043e-03,  4.23934683e-03, -3.59864044e-03, -6.69871864e-04,\n",
      "       -4.79382183e-03, -4.88986587e-03, -9.44747962e-03,  9.40871704e-03,\n",
      "        1.18426234e-03,  3.28594283e-03, -1.23649640e-02,  4.17937292e-03,\n",
      "        2.94140860e-04, -1.42726032e-02, -2.15262105e-03,  1.81452581e-03,\n",
      "       -1.26059179e-03,  3.66830546e-03,  3.52412171e-04, -7.33736716e-03,\n",
      "        7.87795894e-03, -1.44392822e-03,  5.37575549e-03,  1.98609268e-04,\n",
      "        1.85853941e-03, -5.04928082e-03,  1.16040399e-02, -4.13807854e-03,\n",
      "       -8.71075690e-03, -2.48759449e-03,  3.28868162e-03,  5.11098839e-03,\n",
      "       -1.54317007e-03, -5.82237542e-03,  3.43466480e-03, -6.74296170e-03,\n",
      "        7.46110361e-03,  3.57767171e-03, -8.40700697e-03, -5.89139992e-03,\n",
      "       -1.13313021e-02,  3.59822251e-03, -1.41184521e-03,  2.87461793e-03,\n",
      "       -2.08587991e-03,  3.35617177e-03,  3.07003572e-03, -3.86276399e-03,\n",
      "        4.83248936e-04,  8.10357649e-03,  4.42697713e-03,  2.95361318e-03,\n",
      "       -5.30195364e-04,  2.51933257e-03, -3.63287894e-04,  7.19800545e-03],\n",
      "      dtype=float32), array([[ 0.18573873, -0.06645056,  0.18497261, ...,  0.21996298,\n",
      "        -0.00642114, -0.21170108],\n",
      "       [ 0.25273114,  0.28497586,  0.10229354, ...,  0.04803023,\n",
      "        -0.41221237,  0.00344683],\n",
      "       [ 0.26222962, -0.03339168, -0.47530124, ...,  0.01623335,\n",
      "         0.20907803,  0.01100224],\n",
      "       ...,\n",
      "       [ 0.4357114 , -0.51782584, -0.41585243, ...,  0.4111679 ,\n",
      "         0.22329755,  0.33556956],\n",
      "       [-0.40114784,  0.18250999, -0.38289815, ...,  0.0592967 ,\n",
      "        -0.17276739,  0.3878563 ],\n",
      "       [-0.36100164,  0.3932297 , -0.20534432, ..., -0.38926986,\n",
      "        -0.21597198,  0.13895923]], dtype=float32), array([-0.02214163, -0.06337858,  0.04046513,  0.0517161 , -0.0313918 ,\n",
      "        0.01735126,  0.01075144, -0.010258  ,  0.03570208, -0.02881657],\n",
      "      dtype=float32)]\n"
     ]
    }
   ],
   "source": [
    "w_after = model_sigmoid.get_weights()\n",
    "print(w_after)"
   ]
  },
  {
   "cell_type": "code",
   "execution_count": 34,
   "metadata": {},
   "outputs": [
    {
     "name": "stdout",
     "output_type": "stream",
     "text": [
      "Model: \"sequential_3\"\n",
      "_________________________________________________________________\n",
      "Layer (type)                 Output Shape              Param #   \n",
      "=================================================================\n",
      "dense_5 (Dense)              (None, 512)               401920    \n",
      "_________________________________________________________________\n",
      "dense_6 (Dense)              (None, 128)               65664     \n",
      "_________________________________________________________________\n",
      "dense_7 (Dense)              (None, 10)                1290      \n",
      "=================================================================\n",
      "Total params: 468,874\n",
      "Trainable params: 468,874\n",
      "Non-trainable params: 0\n",
      "_________________________________________________________________\n",
      "Train on 60000 samples, validate on 10000 samples\n",
      "Epoch 1/20\n",
      "60000/60000 [==============================] - 4s 65us/step - loss: 0.5501 - accuracy: 0.8530 - val_loss: 0.2603 - val_accuracy: 0.9249\n",
      "Epoch 2/20\n",
      "60000/60000 [==============================] - 4s 60us/step - loss: 0.2227 - accuracy: 0.9356 - val_loss: 0.1902 - val_accuracy: 0.9436\n",
      "Epoch 3/20\n",
      "60000/60000 [==============================] - 4s 63us/step - loss: 0.1635 - accuracy: 0.9520 - val_loss: 0.1499 - val_accuracy: 0.9544\n",
      "Epoch 4/20\n",
      "60000/60000 [==============================] - 4s 62us/step - loss: 0.1253 - accuracy: 0.9623 - val_loss: 0.1163 - val_accuracy: 0.9653\n",
      "Epoch 5/20\n",
      "60000/60000 [==============================] - 4s 64us/step - loss: 0.0980 - accuracy: 0.9715 - val_loss: 0.1016 - val_accuracy: 0.9683\n",
      "Epoch 6/20\n",
      "60000/60000 [==============================] - 4s 66us/step - loss: 0.0792 - accuracy: 0.9769 - val_loss: 0.0861 - val_accuracy: 0.9733\n",
      "Epoch 7/20\n",
      "60000/60000 [==============================] - 4s 69us/step - loss: 0.0627 - accuracy: 0.9814 - val_loss: 0.0773 - val_accuracy: 0.9765\n",
      "Epoch 8/20\n",
      "60000/60000 [==============================] - 4s 67us/step - loss: 0.0516 - accuracy: 0.9851 - val_loss: 0.0751 - val_accuracy: 0.9761\n",
      "Epoch 9/20\n",
      "60000/60000 [==============================] - 4s 69us/step - loss: 0.0421 - accuracy: 0.9877 - val_loss: 0.0693 - val_accuracy: 0.9784\n",
      "Epoch 10/20\n",
      "60000/60000 [==============================] - 4s 69us/step - loss: 0.0338 - accuracy: 0.9905 - val_loss: 0.0667 - val_accuracy: 0.9782\n",
      "Epoch 11/20\n",
      "60000/60000 [==============================] - 4s 69us/step - loss: 0.0274 - accuracy: 0.9925 - val_loss: 0.0638 - val_accuracy: 0.9801\n",
      "Epoch 12/20\n",
      "60000/60000 [==============================] - 4s 72us/step - loss: 0.0221 - accuracy: 0.9940 - val_loss: 0.0666 - val_accuracy: 0.9793\n",
      "Epoch 13/20\n",
      "60000/60000 [==============================] - 4s 74us/step - loss: 0.0174 - accuracy: 0.9955 - val_loss: 0.0669 - val_accuracy: 0.9793\n",
      "Epoch 14/20\n",
      "60000/60000 [==============================] - 4s 73us/step - loss: 0.0139 - accuracy: 0.9966 - val_loss: 0.0652 - val_accuracy: 0.9804\n",
      "Epoch 15/20\n",
      "60000/60000 [==============================] - 4s 70us/step - loss: 0.0110 - accuracy: 0.9976 - val_loss: 0.0642 - val_accuracy: 0.9810\n",
      "Epoch 16/20\n",
      "60000/60000 [==============================] - 4s 71us/step - loss: 0.0081 - accuracy: 0.9985 - val_loss: 0.0647 - val_accuracy: 0.9816\n",
      "Epoch 17/20\n",
      "60000/60000 [==============================] - 4s 73us/step - loss: 0.0078 - accuracy: 0.9982 - val_loss: 0.0838 - val_accuracy: 0.9768\n",
      "Epoch 18/20\n",
      "60000/60000 [==============================] - 4s 72us/step - loss: 0.0066 - accuracy: 0.9986 - val_loss: 0.0689 - val_accuracy: 0.9814\n",
      "Epoch 19/20\n",
      "60000/60000 [==============================] - 4s 73us/step - loss: 0.0044 - accuracy: 0.9992 - val_loss: 0.0754 - val_accuracy: 0.9808\n",
      "Epoch 20/20\n",
      "60000/60000 [==============================] - 4s 74us/step - loss: 0.0051 - accuracy: 0.9987 - val_loss: 0.0783 - val_accuracy: 0.9802\n"
     ]
    }
   ],
   "source": [
    "model_sigmoid_adam=Sequential()\n",
    "model_sigmoid_adam.add(Dense(512,activation='sigmoid',input_shape=(input_dim,)))\n",
    "model_sigmoid_adam.add(Dense(128,activation='sigmoid'))\n",
    "model_sigmoid_adam.add(Dense(output_dim,activation='softmax'))\n",
    "\n",
    "model_sigmoid_adam.summary()\n",
    "\n",
    "model_sigmoid_adam.compile(optimizer='adam',loss='categorical_crossentropy',metrics=['accuracy'])\n",
    "\n",
    "\n",
    "history = model_sigmoid_adam.fit(X_train, Y_train, batch_size=batch_size, epochs=nb_epoch, verbose=1, validation_data=(X_test, Y_test))"
   ]
  },
  {
   "cell_type": "code",
   "execution_count": 36,
   "metadata": {},
   "outputs": [
    {
     "name": "stdout",
     "output_type": "stream",
     "text": [
      "Test score: 0.0782935284024541\n",
      "Test accuracy: 0.9801999926567078\n"
     ]
    },
    {
     "data": {
      "image/png": "[encoded data removed]",
      "text/plain": [
       "<Figure size 432x288 with 1 Axes>"
      ]
     },
     "metadata": {
      "needs_background": "light"
     },
     "output_type": "display_data"
    }
   ],
   "source": [
    "score = model_sigmoid_adam.evaluate(X_test, Y_test, verbose=0) \n",
    "print('Test score:', score[0]) \n",
    "print('Test accuracy:', score[1])\n",
    "\n",
    "fig,ax = plt.subplots(1,1)\n",
    "ax.set_xlabel('epoch') ; ax.set_ylabel('Categorical Crossentropy Loss')\n",
    "\n",
    "# list of epoch numbers\n",
    "x = list(range(1,nb_epoch+1))\n",
    "\n",
    "# print(history.history.keys())\n",
    "\n",
    "# loss : training loss\n",
    "# acc : train accuracy\n",
    "\n",
    "vy = history.history['val_loss']\n",
    "ty = history.history['loss']\n",
    "plt_dynamic(x, vy, ty, ax)"
   ]
  },
  {
   "cell_type": "code",
   "execution_count": 37,
   "metadata": {},
   "outputs": [
    {
     "name": "stdout",
     "output_type": "stream",
     "text": [
      "Model: \"sequential_4\"\n",
      "_________________________________________________________________\n",
      "Layer (type)                 Output Shape              Param #   \n",
      "=================================================================\n",
      "dense_8 (Dense)              (None, 512)               401920    \n",
      "_________________________________________________________________\n",
      "dense_9 (Dense)              (None, 128)               65664     \n",
      "_________________________________________________________________\n",
      "dense_10 (Dense)             (None, 10)                1290      \n",
      "=================================================================\n",
      "Total params: 468,874\n",
      "Trainable params: 468,874\n",
      "Non-trainable params: 0\n",
      "_________________________________________________________________\n"
     ]
    }
   ],
   "source": [
    "model_relu = Sequential()\n",
    "model_relu.add(Dense(512, activation='relu', input_shape=(input_dim,), kernel_initializer=RandomNormal(mean=0.0, stddev=0.062, seed=None)))\n",
    "model_relu.add(Dense(128, activation='relu', kernel_initializer=RandomNormal(mean=0.0, stddev=0.125, seed=None)) )\n",
    "model_relu.add(Dense(output_dim, activation='softmax'))\n",
    "\n",
    "model_relu.summary()"
   ]
  },
  {
   "cell_type": "code",
   "execution_count": 38,
   "metadata": {},
   "outputs": [
    {
     "name": "stdout",
     "output_type": "stream",
     "text": [
      "Train on 60000 samples, validate on 10000 samples\n",
      "Epoch 1/20\n",
      "60000/60000 [==============================] - 3s 45us/step - loss: 0.7480 - accuracy: 0.7872 - val_loss: 0.3907 - val_accuracy: 0.8925\n",
      "Epoch 2/20\n",
      "60000/60000 [==============================] - 3s 42us/step - loss: 0.3558 - accuracy: 0.8978 - val_loss: 0.2999 - val_accuracy: 0.9150\n",
      "Epoch 3/20\n",
      "60000/60000 [==============================] - 2s 41us/step - loss: 0.2926 - accuracy: 0.9158 - val_loss: 0.2636 - val_accuracy: 0.9253\n",
      "Epoch 4/20\n",
      "60000/60000 [==============================] - 3s 44us/step - loss: 0.2582 - accuracy: 0.9256 - val_loss: 0.2379 - val_accuracy: 0.9325\n",
      "Epoch 5/20\n",
      "60000/60000 [==============================] - 3s 43us/step - loss: 0.2340 - accuracy: 0.9329 - val_loss: 0.2201 - val_accuracy: 0.9369\n",
      "Epoch 6/20\n",
      "60000/60000 [==============================] - 3s 45us/step - loss: 0.2152 - accuracy: 0.9384 - val_loss: 0.2062 - val_accuracy: 0.9411\n",
      "Epoch 7/20\n",
      "60000/60000 [==============================] - 3s 43us/step - loss: 0.2000 - accuracy: 0.9432 - val_loss: 0.1967 - val_accuracy: 0.9423\n",
      "Epoch 8/20\n",
      "60000/60000 [==============================] - 3s 43us/step - loss: 0.1872 - accuracy: 0.9470 - val_loss: 0.1852 - val_accuracy: 0.9459\n",
      "Epoch 9/20\n",
      "60000/60000 [==============================] - 3s 46us/step - loss: 0.1762 - accuracy: 0.9498 - val_loss: 0.1770 - val_accuracy: 0.9478\n",
      "Epoch 10/20\n",
      "60000/60000 [==============================] - 3s 43us/step - loss: 0.1663 - accuracy: 0.9530 - val_loss: 0.1709 - val_accuracy: 0.9486\n",
      "Epoch 11/20\n",
      "60000/60000 [==============================] - 3s 46us/step - loss: 0.1579 - accuracy: 0.9556 - val_loss: 0.1625 - val_accuracy: 0.9519\n",
      "Epoch 12/20\n",
      "60000/60000 [==============================] - 3s 46us/step - loss: 0.1503 - accuracy: 0.9580 - val_loss: 0.1577 - val_accuracy: 0.9535\n",
      "Epoch 13/20\n",
      "60000/60000 [==============================] - 3s 48us/step - loss: 0.1435 - accuracy: 0.9599 - val_loss: 0.1530 - val_accuracy: 0.9539\n",
      "Epoch 14/20\n",
      "60000/60000 [==============================] - 3s 45us/step - loss: 0.1371 - accuracy: 0.9621 - val_loss: 0.1475 - val_accuracy: 0.9566\n",
      "Epoch 15/20\n",
      "60000/60000 [==============================] - 3s 48us/step - loss: 0.1314 - accuracy: 0.9634 - val_loss: 0.1409 - val_accuracy: 0.9579\n",
      "Epoch 16/20\n",
      "60000/60000 [==============================] - ETA: 0s - loss: 0.1257 - accuracy: 0.96 - 3s 46us/step - loss: 0.1259 - accuracy: 0.9653 - val_loss: 0.1378 - val_accuracy: 0.9585\n",
      "Epoch 17/20\n",
      "60000/60000 [==============================] - 3s 50us/step - loss: 0.1210 - accuracy: 0.9667 - val_loss: 0.1349 - val_accuracy: 0.9592\n",
      "Epoch 18/20\n",
      "60000/60000 [==============================] - 3s 53us/step - loss: 0.1165 - accuracy: 0.9676 - val_loss: 0.1300 - val_accuracy: 0.9603\n",
      "Epoch 19/20\n",
      "60000/60000 [==============================] - 3s 47us/step - loss: 0.1123 - accuracy: 0.9688 - val_loss: 0.1291 - val_accuracy: 0.9615\n",
      "Epoch 20/20\n",
      "60000/60000 [==============================] - 3s 46us/step - loss: 0.1083 - accuracy: 0.9702 - val_loss: 0.1236 - val_accuracy: 0.9623\n"
     ]
    }
   ],
   "source": [
    "model_relu.compile(optimizer='sgd', loss='categorical_crossentropy', metrics=['accuracy'])\n",
    "\n",
    "history = model_relu.fit(X_train, Y_train, batch_size=batch_size, epochs=nb_epoch, verbose=1, validation_data=(X_test, Y_test))"
   ]
  },
  {
   "cell_type": "code",
   "execution_count": 39,
   "metadata": {},
   "outputs": [
    {
     "name": "stdout",
     "output_type": "stream",
     "text": [
      "Test score: 0.12360273796729744\n",
      "Test accuracy: 0.9623000025749207\n"
     ]
    },
    {
     "data": {
      "image/png": "[encoded data removed]",
      "text/plain": [
       "<Figure size 432x288 with 1 Axes>"
      ]
     },
     "metadata": {
      "needs_background": "light"
     },
     "output_type": "display_data"
    }
   ],
   "source": [
    "score = model_relu.evaluate(X_test, Y_test, verbose=0) \n",
    "print('Test score:', score[0]) \n",
    "print('Test accuracy:', score[1])\n",
    "\n",
    "fig,ax = plt.subplots(1,1)\n",
    "ax.set_xlabel('epoch') ; ax.set_ylabel('Categorical Crossentropy Loss')\n",
    "\n",
    "# list of epoch numbers\n",
    "x = list(range(1,nb_epoch+1))\n",
    "\n",
    "# print(history.history.keys())\n",
    "\n",
    "# loss : training loss\n",
    "# acc : train accuracy\n",
    "\n",
    "vy = history.history['val_loss']\n",
    "ty = history.history['loss']\n",
    "plt_dynamic(x, vy, ty, ax)"
   ]
  },
  {
   "cell_type": "code",
   "execution_count": 42,
   "metadata": {},
   "outputs": [
    {
     "name": "stdout",
     "output_type": "stream",
     "text": [
      "Model: \"sequential_7\"\n",
      "_________________________________________________________________\n",
      "Layer (type)                 Output Shape              Param #   \n",
      "=================================================================\n",
      "dense_16 (Dense)             (None, 512)               401920    \n",
      "_________________________________________________________________\n",
      "dense_17 (Dense)             (None, 128)               65664     \n",
      "_________________________________________________________________\n",
      "dense_18 (Dense)             (None, 10)                1290      \n",
      "=================================================================\n",
      "Total params: 468,874\n",
      "Trainable params: 468,874\n",
      "Non-trainable params: 0\n",
      "_________________________________________________________________\n",
      "None\n",
      "Train on 60000 samples, validate on 10000 samples\n",
      "Epoch 1/20\n",
      "60000/60000 [==============================] - 4s 61us/step - loss: 0.2255 - accuracy: 0.9329 - val_loss: 0.1194 - val_accuracy: 0.9637\n",
      "Epoch 2/20\n",
      "60000/60000 [==============================] - 4s 61us/step - loss: 0.0840 - accuracy: 0.9737 - val_loss: 0.0793 - val_accuracy: 0.9747\n",
      "Epoch 3/20\n",
      "60000/60000 [==============================] - 4s 65us/step - loss: 0.0517 - accuracy: 0.9844 - val_loss: 0.0787 - val_accuracy: 0.9757\n",
      "Epoch 4/20\n",
      "60000/60000 [==============================] - 4s 65us/step - loss: 0.0357 - accuracy: 0.9888 - val_loss: 0.0697 - val_accuracy: 0.9781\n",
      "Epoch 5/20\n",
      "60000/60000 [==============================] - 4s 65us/step - loss: 0.0245 - accuracy: 0.9925 - val_loss: 0.0746 - val_accuracy: 0.9762\n",
      "Epoch 6/20\n",
      "60000/60000 [==============================] - 4s 67us/step - loss: 0.0216 - accuracy: 0.9929 - val_loss: 0.0833 - val_accuracy: 0.9741\n",
      "Epoch 7/20\n",
      "60000/60000 [==============================] - 4s 72us/step - loss: 0.0185 - accuracy: 0.9938 - val_loss: 0.0662 - val_accuracy: 0.9792\n",
      "Epoch 8/20\n",
      "60000/60000 [==============================] - 4s 64us/step - loss: 0.0122 - accuracy: 0.9963 - val_loss: 0.0710 - val_accuracy: 0.9809\n",
      "Epoch 9/20\n",
      "60000/60000 [==============================] - 4s 70us/step - loss: 0.0131 - accuracy: 0.9959 - val_loss: 0.0746 - val_accuracy: 0.9804\n",
      "Epoch 10/20\n",
      "60000/60000 [==============================] - 4s 69us/step - loss: 0.0134 - accuracy: 0.9955 - val_loss: 0.0758 - val_accuracy: 0.9813\n",
      "Epoch 11/20\n",
      "60000/60000 [==============================] - 4s 70us/step - loss: 0.0087 - accuracy: 0.9972 - val_loss: 0.0906 - val_accuracy: 0.9779\n",
      "Epoch 12/20\n",
      "60000/60000 [==============================] - 4s 70us/step - loss: 0.0117 - accuracy: 0.9962 - val_loss: 0.0939 - val_accuracy: 0.9801\n",
      "Epoch 13/20\n",
      "60000/60000 [==============================] - 4s 67us/step - loss: 0.0080 - accuracy: 0.9972 - val_loss: 0.0971 - val_accuracy: 0.9784\n",
      "Epoch 14/20\n",
      "60000/60000 [==============================] - 4s 67us/step - loss: 0.0070 - accuracy: 0.9979 - val_loss: 0.0906 - val_accuracy: 0.9803\n",
      "Epoch 15/20\n",
      "60000/60000 [==============================] - 4s 68us/step - loss: 0.0103 - accuracy: 0.9964 - val_loss: 0.0962 - val_accuracy: 0.9808\n",
      "Epoch 16/20\n",
      "60000/60000 [==============================] - 4s 69us/step - loss: 0.0085 - accuracy: 0.9974 - val_loss: 0.0885 - val_accuracy: 0.9812\n",
      "Epoch 17/20\n",
      "60000/60000 [==============================] - 4s 69us/step - loss: 0.0074 - accuracy: 0.9975 - val_loss: 0.0946 - val_accuracy: 0.9794\n",
      "Epoch 18/20\n",
      "60000/60000 [==============================] - 4s 69us/step - loss: 0.0080 - accuracy: 0.9973 - val_loss: 0.0954 - val_accuracy: 0.9813\n",
      "Epoch 19/20\n",
      "60000/60000 [==============================] - 4s 68us/step - loss: 0.0066 - accuracy: 0.9978 - val_loss: 0.0906 - val_accuracy: 0.9812\n",
      "Epoch 20/20\n",
      "60000/60000 [==============================] - 4s 70us/step - loss: 0.0051 - accuracy: 0.9983 - val_loss: 0.1004 - val_accuracy: 0.9796\n"
     ]
    }
   ],
   "source": [
    "model_relu_adam=Sequential()\n",
    "model_relu_adam.add(Dense(512,activation='relu',input_shape=(input_dim,),kernel_initializer=RandomNormal(mean=0.0, stddev=0.062, seed=None)))\n",
    "model_relu_adam.add(Dense(128,activation='relu',kernel_initializer=RandomNormal(mean=0.0, stddev=0.125, seed=None)))\n",
    "model_relu_adam.add(Dense(output_dim,activation='softmax'))\n",
    "print(model_relu_adam.summary())\n",
    "\n",
    "model_relu_adam.compile(optimizer='adam', loss='categorical_crossentropy', metrics=['accuracy'])\n",
    "\n",
    "history = model_relu_adam.fit(X_train, Y_train, batch_size=batch_size, epochs=nb_epoch, verbose=1, validation_data=(X_test, Y_test))"
   ]
  },
  {
   "cell_type": "code",
   "execution_count": 43,
   "metadata": {},
   "outputs": [
    {
     "name": "stdout",
     "output_type": "stream",
     "text": [
      "Test score: 0.10039811728593917\n",
      "Test accuracy: 0.9796000123023987\n"
     ]
    },
    {
     "data": {
      "image/png": "[encoded data removed]",
      "text/plain": [
       "<Figure size 432x288 with 1 Axes>"
      ]
     },
     "metadata": {
      "needs_background": "light"
     },
     "output_type": "display_data"
    }
   ],
   "source": [
    "score = model_relu_adam.evaluate(X_test, Y_test, verbose=0) \n",
    "print('Test score:', score[0]) \n",
    "print('Test accuracy:', score[1])\n",
    "\n",
    "fig,ax = plt.subplots(1,1)\n",
    "ax.set_xlabel('epoch') ; ax.set_ylabel('Categorical Crossentropy Loss')\n",
    "\n",
    "# list of epoch numbers\n",
    "x = list(range(1,nb_epoch+1))\n",
    "\n",
    "# print(history.history.keys())\n",
    "\n",
    "# loss : training loss\n",
    "# acc : train accuracy\n",
    "\n",
    "vy = history.history['val_loss']\n",
    "ty = history.history['loss']\n",
    "plt_dynamic(x, vy, ty, ax)"
   ]
  },
  {
   "cell_type": "code",
   "execution_count": 44,
   "metadata": {},
   "outputs": [
    {
     "name": "stdout",
     "output_type": "stream",
     "text": [
      "Model: \"sequential_8\"\n",
      "_________________________________________________________________\n",
      "Layer (type)                 Output Shape              Param #   \n",
      "=================================================================\n",
      "dense_19 (Dense)             (None, 512)               401920    \n",
      "_________________________________________________________________\n",
      "batch_normalization_1 (Batch (None, 512)               2048      \n",
      "_________________________________________________________________\n",
      "dense_20 (Dense)             (None, 128)               65664     \n",
      "_________________________________________________________________\n",
      "batch_normalization_2 (Batch (None, 128)               512       \n",
      "_________________________________________________________________\n",
      "dense_21 (Dense)             (None, 10)                1290      \n",
      "=================================================================\n",
      "Total params: 471,434\n",
      "Trainable params: 470,154\n",
      "Non-trainable params: 1,280\n",
      "_________________________________________________________________\n"
     ]
    }
   ],
   "source": [
    "from keras.layers.normalization import BatchNormalization\n",
    "\n",
    "model_batch = Sequential()\n",
    "\n",
    "model_batch.add(Dense(512, activation='sigmoid', input_shape=(input_dim,), kernel_initializer=RandomNormal(mean=0.0, stddev=0.039, seed=None)))\n",
    "model_batch.add(BatchNormalization())\n",
    "\n",
    "model_batch.add(Dense(128, activation='sigmoid', kernel_initializer=RandomNormal(mean=0.0, stddev=0.55, seed=None)) )\n",
    "model_batch.add(BatchNormalization())\n",
    "\n",
    "model_batch.add(Dense(output_dim, activation='softmax'))\n",
    "\n",
    "\n",
    "model_batch.summary()"
   ]
  },
  {
   "cell_type": "code",
   "execution_count": 45,
   "metadata": {},
   "outputs": [
    {
     "name": "stdout",
     "output_type": "stream",
     "text": [
      "Train on 60000 samples, validate on 10000 samples\n",
      "Epoch 1/20\n",
      "60000/60000 [==============================] - 5s 77us/step - loss: 0.2962 - accuracy: 0.9116 - val_loss: 0.1986 - val_accuracy: 0.9446\n",
      "Epoch 2/20\n",
      "60000/60000 [==============================] - 5s 75us/step - loss: 0.1727 - accuracy: 0.9499 - val_loss: 0.1662 - val_accuracy: 0.9494\n",
      "Epoch 3/20\n",
      "60000/60000 [==============================] - 5s 77us/step - loss: 0.1384 - accuracy: 0.9588 - val_loss: 0.1455 - val_accuracy: 0.9559\n",
      "Epoch 4/20\n",
      "60000/60000 [==============================] - 5s 78us/step - loss: 0.1132 - accuracy: 0.9660 - val_loss: 0.1337 - val_accuracy: 0.9600\n",
      "Epoch 5/20\n",
      "60000/60000 [==============================] - 5s 83us/step - loss: 0.0966 - accuracy: 0.9714 - val_loss: 0.1235 - val_accuracy: 0.9621\n",
      "Epoch 6/20\n",
      "60000/60000 [==============================] - 5s 83us/step - loss: 0.0807 - accuracy: 0.9755 - val_loss: 0.1131 - val_accuracy: 0.9653\n",
      "Epoch 7/20\n",
      "60000/60000 [==============================] - 5s 84us/step - loss: 0.0707 - accuracy: 0.9775 - val_loss: 0.1116 - val_accuracy: 0.9664\n",
      "Epoch 8/20\n",
      "60000/60000 [==============================] - 6s 94us/step - loss: 0.0607 - accuracy: 0.9811 - val_loss: 0.1008 - val_accuracy: 0.9691\n",
      "Epoch 9/20\n",
      "60000/60000 [==============================] - 6s 96us/step - loss: 0.0503 - accuracy: 0.9843 - val_loss: 0.0973 - val_accuracy: 0.9698\n",
      "Epoch 10/20\n",
      "60000/60000 [==============================] - 5s 83us/step - loss: 0.0435 - accuracy: 0.9869 - val_loss: 0.0963 - val_accuracy: 0.9719\n",
      "Epoch 11/20\n",
      "60000/60000 [==============================] - 5s 86us/step - loss: 0.0383 - accuracy: 0.9884 - val_loss: 0.1054 - val_accuracy: 0.9692\n",
      "Epoch 12/20\n",
      "60000/60000 [==============================] - 5s 89us/step - loss: 0.0385 - accuracy: 0.9875 - val_loss: 0.0961 - val_accuracy: 0.9714\n",
      "Epoch 13/20\n",
      "60000/60000 [==============================] - 5s 83us/step - loss: 0.0328 - accuracy: 0.9893 - val_loss: 0.0893 - val_accuracy: 0.9748\n",
      "Epoch 14/20\n",
      "60000/60000 [==============================] - 5s 87us/step - loss: 0.0262 - accuracy: 0.9914 - val_loss: 0.0954 - val_accuracy: 0.9730\n",
      "Epoch 15/20\n",
      "60000/60000 [==============================] - 5s 87us/step - loss: 0.0253 - accuracy: 0.9919 - val_loss: 0.0965 - val_accuracy: 0.9745\n",
      "Epoch 16/20\n",
      "60000/60000 [==============================] - 5s 85us/step - loss: 0.0249 - accuracy: 0.9919 - val_loss: 0.0995 - val_accuracy: 0.9724\n",
      "Epoch 17/20\n",
      "60000/60000 [==============================] - 5s 87us/step - loss: 0.0218 - accuracy: 0.9927 - val_loss: 0.0950 - val_accuracy: 0.9744\n",
      "Epoch 18/20\n",
      "60000/60000 [==============================] - 5s 87us/step - loss: 0.0200 - accuracy: 0.9938 - val_loss: 0.0961 - val_accuracy: 0.9745\n",
      "Epoch 19/20\n",
      "60000/60000 [==============================] - 5s 85us/step - loss: 0.0172 - accuracy: 0.9944 - val_loss: 0.0952 - val_accuracy: 0.9750\n",
      "Epoch 20/20\n",
      "60000/60000 [==============================] - 5s 87us/step - loss: 0.0171 - accuracy: 0.9941 - val_loss: 0.1017 - val_accuracy: 0.9723\n"
     ]
    }
   ],
   "source": [
    "model_batch.compile(optimizer='adam', loss='categorical_crossentropy', metrics=['accuracy'])\n",
    "\n",
    "history = model_batch.fit(X_train, Y_train, batch_size=batch_size, epochs=nb_epoch, verbose=1, validation_data=(X_test, Y_test))"
   ]
  },
  {
   "cell_type": "code",
   "execution_count": 49,
   "metadata": {},
   "outputs": [
    {
     "name": "stdout",
     "output_type": "stream",
     "text": [
      "Test score: 0.10174031943001319\n",
      "Test accuracy: 0.9722999930381775\n"
     ]
    },
    {
     "data": {
      "image/png": "[encoded data removed]",
      "text/plain": [
       "<Figure size 432x288 with 1 Axes>"
      ]
     },
     "metadata": {
      "needs_background": "light"
     },
     "output_type": "display_data"
    }
   ],
   "source": [
    "score = model_batch.evaluate(X_test, Y_test, verbose=0) \n",
    "print('Test score:', score[0]) \n",
    "print('Test accuracy:', score[1])\n",
    "\n",
    "fig,ax = plt.subplots(1,1)\n",
    "ax.set_xlabel('epoch') ; ax.set_ylabel('Categorical Crossentropy Loss')\n",
    "\n",
    "# list of epoch numbers\n",
    "x = list(range(1,nb_epoch+1))\n",
    "\n",
    "# print(history.history.keys())\n",
    "\n",
    "# loss : training loss\n",
    "# acc : train accuracy\n",
    "\n",
    "vy = history.history['val_loss']\n",
    "ty = history.history['loss']\n",
    "plt_dynamic(x, vy, ty, ax)"
   ]
  },
  {
   "cell_type": "code",
   "execution_count": 47,
   "metadata": {},
   "outputs": [
    {
     "name": "stdout",
     "output_type": "stream",
     "text": [
      "Model: \"sequential_9\"\n",
      "_________________________________________________________________\n",
      "Layer (type)                 Output Shape              Param #   \n",
      "=================================================================\n",
      "dense_22 (Dense)             (None, 512)               401920    \n",
      "_________________________________________________________________\n",
      "batch_normalization_3 (Batch (None, 512)               2048      \n",
      "_________________________________________________________________\n",
      "dropout_1 (Dropout)          (None, 512)               0         \n",
      "_________________________________________________________________\n",
      "dense_23 (Dense)             (None, 128)               65664     \n",
      "_________________________________________________________________\n",
      "batch_normalization_4 (Batch (None, 128)               512       \n",
      "_________________________________________________________________\n",
      "dropout_2 (Dropout)          (None, 128)               0         \n",
      "_________________________________________________________________\n",
      "dense_24 (Dense)             (None, 10)                1290      \n",
      "=================================================================\n",
      "Total params: 471,434\n",
      "Trainable params: 470,154\n",
      "Non-trainable params: 1,280\n",
      "_________________________________________________________________\n"
     ]
    }
   ],
   "source": [
    "from keras.layers import Dropout\n",
    "\n",
    "model_drop = Sequential()\n",
    "\n",
    "model_drop.add(Dense(512, activation='sigmoid', input_shape=(input_dim,), kernel_initializer=RandomNormal(mean=0.0, stddev=0.039, seed=None)))\n",
    "model_drop.add(BatchNormalization())\n",
    "model_drop.add(Dropout(0.5))\n",
    "\n",
    "model_drop.add(Dense(128, activation='sigmoid', kernel_initializer=RandomNormal(mean=0.0, stddev=0.55, seed=None)) )\n",
    "model_drop.add(BatchNormalization())\n",
    "model_drop.add(Dropout(0.5))\n",
    "\n",
    "model_drop.add(Dense(output_dim, activation='softmax'))\n",
    "\n",
    "\n",
    "model_drop.summary()"
   ]
  },
  {
   "cell_type": "code",
   "execution_count": 48,
   "metadata": {},
   "outputs": [
    {
     "name": "stdout",
     "output_type": "stream",
     "text": [
      "Train on 60000 samples, validate on 10000 samples\n",
      "Epoch 1/20\n",
      "60000/60000 [==============================] - 5s 81us/step - loss: 0.6836 - accuracy: 0.7885 - val_loss: 0.2866 - val_accuracy: 0.9154\n",
      "Epoch 2/20\n",
      "60000/60000 [==============================] - 5s 85us/step - loss: 0.4360 - accuracy: 0.8676 - val_loss: 0.2539 - val_accuracy: 0.9234\n",
      "Epoch 3/20\n",
      "60000/60000 [==============================] - 5s 89us/step - loss: 0.3854 - accuracy: 0.8831 - val_loss: 0.2372 - val_accuracy: 0.9292\n",
      "Epoch 4/20\n",
      "60000/60000 [==============================] - 6s 93us/step - loss: 0.3584 - accuracy: 0.8917 - val_loss: 0.2237 - val_accuracy: 0.9333\n",
      "Epoch 5/20\n",
      "60000/60000 [==============================] - 6s 93us/step - loss: 0.3337 - accuracy: 0.8990 - val_loss: 0.2102 - val_accuracy: 0.9348\n",
      "Epoch 6/20\n",
      "60000/60000 [==============================] - 5s 87us/step - loss: 0.3205 - accuracy: 0.9036 - val_loss: 0.2026 - val_accuracy: 0.9397\n",
      "Epoch 7/20\n",
      "60000/60000 [==============================] - 6s 93us/step - loss: 0.3087 - accuracy: 0.9067 - val_loss: 0.1899 - val_accuracy: 0.9425\n",
      "Epoch 8/20\n",
      "60000/60000 [==============================] - 6s 96us/step - loss: 0.2949 - accuracy: 0.9098 - val_loss: 0.1853 - val_accuracy: 0.9440\n",
      "Epoch 9/20\n",
      "60000/60000 [==============================] - 6s 96us/step - loss: 0.2851 - accuracy: 0.9143 - val_loss: 0.1771 - val_accuracy: 0.9465\n",
      "Epoch 10/20\n",
      "60000/60000 [==============================] - 6s 99us/step - loss: 0.2667 - accuracy: 0.9193 - val_loss: 0.1670 - val_accuracy: 0.9483\n",
      "Epoch 11/20\n",
      "60000/60000 [==============================] - 6s 95us/step - loss: 0.2615 - accuracy: 0.9211 - val_loss: 0.1608 - val_accuracy: 0.9502\n",
      "Epoch 12/20\n",
      "60000/60000 [==============================] - 6s 96us/step - loss: 0.2439 - accuracy: 0.9265 - val_loss: 0.1540 - val_accuracy: 0.9551\n",
      "Epoch 13/20\n",
      "60000/60000 [==============================] - 6s 97us/step - loss: 0.2362 - accuracy: 0.9293 - val_loss: 0.1466 - val_accuracy: 0.9565\n",
      "Epoch 14/20\n",
      "60000/60000 [==============================] - 6s 97us/step - loss: 0.2214 - accuracy: 0.9332 - val_loss: 0.1361 - val_accuracy: 0.9594\n",
      "Epoch 15/20\n",
      "60000/60000 [==============================] - 6s 96us/step - loss: 0.2160 - accuracy: 0.9354 - val_loss: 0.1324 - val_accuracy: 0.9603\n",
      "Epoch 16/20\n",
      "60000/60000 [==============================] - 6s 97us/step - loss: 0.2075 - accuracy: 0.9378 - val_loss: 0.1277 - val_accuracy: 0.9606\n",
      "Epoch 17/20\n",
      "60000/60000 [==============================] - 6s 102us/step - loss: 0.1994 - accuracy: 0.9400 - val_loss: 0.1206 - val_accuracy: 0.9656\n",
      "Epoch 18/20\n",
      "60000/60000 [==============================] - 6s 98us/step - loss: 0.1912 - accuracy: 0.9428 - val_loss: 0.1174 - val_accuracy: 0.9649\n",
      "Epoch 19/20\n",
      "60000/60000 [==============================] - 6s 97us/step - loss: 0.1845 - accuracy: 0.9456 - val_loss: 0.1086 - val_accuracy: 0.9673\n",
      "Epoch 20/20\n",
      "60000/60000 [==============================] - 6s 97us/step - loss: 0.1762 - accuracy: 0.9470 - val_loss: 0.1096 - val_accuracy: 0.9689\n"
     ]
    }
   ],
   "source": [
    "model_drop.compile(optimizer='adam', loss='categorical_crossentropy', metrics=['accuracy'])\n",
    "\n",
    "history = model_drop.fit(X_train, Y_train, batch_size=batch_size, epochs=nb_epoch, verbose=1, validation_data=(X_test, Y_test))"
   ]
  },
  {
   "cell_type": "code",
   "execution_count": 50,
   "metadata": {},
   "outputs": [
    {
     "name": "stdout",
     "output_type": "stream",
     "text": [
      "Test score: 0.10958204906918108\n",
      "Test accuracy: 0.9689000248908997\n"
     ]
    },
    {
     "data": {
      "image/png": "[encoded data removed]",
      "text/plain": [
       "<Figure size 432x288 with 1 Axes>"
      ]
     },
     "metadata": {
      "needs_background": "light"
     },
     "output_type": "display_data"
    }
   ],
   "source": [
    "score = model_drop.evaluate(X_test, Y_test, verbose=0) \n",
    "print('Test score:', score[0]) \n",
    "print('Test accuracy:', score[1])\n",
    "\n",
    "fig,ax = plt.subplots(1,1)\n",
    "ax.set_xlabel('epoch') ; ax.set_ylabel('Categorical Crossentropy Loss')\n",
    "\n",
    "# list of epoch numbers\n",
    "x = list(range(1,nb_epoch+1))\n",
    "\n",
    "# print(history.history.keys())\n",
    "\n",
    "# loss : training loss\n",
    "# acc : train accuracy\n",
    "\n",
    "vy = history.history['val_loss']\n",
    "ty = history.history['loss']\n",
    "plt_dynamic(x, vy, ty, ax)"
   ]
  },
  {
   "cell_type": "code",
   "execution_count": null,
   "metadata": {},
   "outputs": [],
   "source": []
  }
 ],
 "metadata": {
  "kernelspec": {
   "display_name": "Python 3",
   "language": "python",
   "name": "python3"
  },
  "language_info": {
   "codemirror_mode": {
    "name": "ipython",
    "version": 3
   },
   "file_extension": ".py",
   "mimetype": "text/x-python",
   "name": "python",
   "nbconvert_exporter": "python",
   "pygments_lexer": "ipython3",
   "version": "3.6.3rc1"
  }
 },
 "nbformat": 4,
 "nbformat_minor": 4
}
